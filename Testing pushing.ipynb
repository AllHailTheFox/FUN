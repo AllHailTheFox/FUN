{
 "cells": [
  {
   "cell_type": "code",
   "execution_count": null,
   "id": "c3425826",
   "metadata": {},
   "outputs": [],
   "source": [
    "print(\"Henlo, World!\")"
   ]
  }
 ],
 "metadata": {
  "language_info": {
   "name": "python"
  }
 },
 "nbformat": 4,
 "nbformat_minor": 5
}
